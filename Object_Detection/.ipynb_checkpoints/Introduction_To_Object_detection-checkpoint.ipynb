{
 "cells": [
  {
   "cell_type": "code",
   "execution_count": 1,
   "metadata": {},
   "outputs": [],
   "source": [
    "# Template matching:\n",
    "#     In template matching it's looking for\n",
    "#     an exact copy of an image in another image"
   ]
  },
  {
   "cell_type": "code",
   "execution_count": 2,
   "metadata": {},
   "outputs": [],
   "source": [
    "# Corner detection:\n",
    "#     Looking for corners in images\n",
    "\n",
    "# Edge detection:\n",
    "#     Expanding to find general edges of objects\n",
    "\n",
    "# Grid detection:\n",
    "#     Combining both(corner & edges detection)concepts to find grids in images(useful for application)"
   ]
  },
  {
   "cell_type": "code",
   "execution_count": 3,
   "metadata": {},
   "outputs": [],
   "source": [
    "# Contour Detection:\n",
    "#     Allow us to detect foreground vs background images.\n",
    "#     Also allows for detection of external vs interner contours(\n",
    "#      e.g: grabbing the eyes and smile from a cartoon smile face)"
   ]
  },
  {
   "cell_type": "code",
   "execution_count": 4,
   "metadata": {},
   "outputs": [],
   "source": [
    "# Feature matching:\n",
    "#     More advance method of detecting matching object in another image,\n",
    "#     even if the target image is not shown exactly the same in the image \n",
    "#     we are serching."
   ]
  },
  {
   "cell_type": "code",
   "execution_count": 5,
   "metadata": {},
   "outputs": [],
   "source": [
    "# Watershed Algorithms:\n",
    "#     Advanced algorithm that allows us to segment images into\n",
    "#     foreground and background.\n",
    "#     Also allow us to manually set seeds to choose segment of an image"
   ]
  },
  {
   "cell_type": "code",
   "execution_count": null,
   "metadata": {},
   "outputs": [],
   "source": [
    "# Facial and Eye detection:\n",
    "#     We will use Haar Cascades to detect faces in images. is a deep learning method"
   ]
  }
 ],
 "metadata": {
  "kernelspec": {
   "display_name": "Python 3",
   "language": "python",
   "name": "python3"
  },
  "language_info": {
   "codemirror_mode": {
    "name": "ipython",
    "version": 3
   },
   "file_extension": ".py",
   "mimetype": "text/x-python",
   "name": "python",
   "nbconvert_exporter": "python",
   "pygments_lexer": "ipython3",
   "version": "3.7.6"
  }
 },
 "nbformat": 4,
 "nbformat_minor": 4
}
