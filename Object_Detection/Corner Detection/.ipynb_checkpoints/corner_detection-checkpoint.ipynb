{
 "cells": [
  {
   "cell_type": "code",
   "execution_count": 1,
   "metadata": {},
   "outputs": [],
   "source": [
    "Corner:\n",
    "    => A corner is a point whose local neighborhood stands in two\n",
    "       dominant and different edge direction.\n",
    "    => A corner cab be interpreted as the junction of two edges\n",
    "       where an edge is a sudden change in image brightness.\n",
    "\n",
    "Corner detection algorithms:\n",
    "    * Harris corner detection\n",
    "    * Shi-Tomasi corner detection"
   ]
  },
  {
   "cell_type": "code",
   "execution_count": null,
   "metadata": {},
   "outputs": [],
   "source": []
  }
 ],
 "metadata": {
  "kernelspec": {
   "display_name": "Python 3",
   "language": "python",
   "name": "python3"
  },
  "language_info": {
   "codemirror_mode": {
    "name": "ipython",
    "version": 3
   },
   "file_extension": ".py",
   "mimetype": "text/x-python",
   "name": "python",
   "nbconvert_exporter": "python",
   "pygments_lexer": "ipython3",
   "version": "3.7.6"
  }
 },
 "nbformat": 4,
 "nbformat_minor": 4
}
