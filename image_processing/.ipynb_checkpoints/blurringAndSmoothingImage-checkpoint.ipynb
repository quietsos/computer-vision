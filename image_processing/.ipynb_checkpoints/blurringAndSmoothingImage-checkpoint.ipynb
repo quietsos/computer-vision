{
 "cells": [
  {
   "cell_type": "code",
   "execution_count": 1,
   "metadata": {},
   "outputs": [],
   "source": [
    "# *A common operation for image processing \n",
    "# is blurring or smoothing an image\n",
    "# * Smoothing an image can help get rid of noise \n",
    "# or help an application focus on general details\n"
   ]
  },
  {
   "cell_type": "code",
   "execution_count": 2,
   "metadata": {},
   "outputs": [],
   "source": [
    "# *Often blurring and smoothing is combined \n",
    "#     with edge detection\n",
    "# * Edge detection algorithms detect too many edges\n",
    "#     when shown a high resolution image without any blurring"
   ]
  },
  {
   "cell_type": "code",
   "execution_count": null,
   "metadata": {},
   "outputs": [],
   "source": [
    " "
   ]
  }
 ],
 "metadata": {
  "kernelspec": {
   "display_name": "Python 3",
   "language": "python",
   "name": "python3"
  },
  "language_info": {
   "codemirror_mode": {
    "name": "ipython",
    "version": 3
   },
   "file_extension": ".py",
   "mimetype": "text/x-python",
   "name": "python",
   "nbconvert_exporter": "python",
   "pygments_lexer": "ipython3",
   "version": "3.7.6"
  }
 },
 "nbformat": 4,
 "nbformat_minor": 4
}
